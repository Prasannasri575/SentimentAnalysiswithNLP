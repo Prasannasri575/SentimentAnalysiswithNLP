{
  "nbformat": 4,
  "nbformat_minor": 0,
  "metadata": {
    "colab": {
      "provenance": [],
      "authorship_tag": "ABX9TyO5tzhOt/2XzljUqBz3/lXc",
      "include_colab_link": true
    },
    "kernelspec": {
      "name": "python3",
      "display_name": "Python 3"
    },
    "language_info": {
      "name": "python"
    }
  },
  "cells": [
    {
      "cell_type": "markdown",
      "metadata": {
        "id": "view-in-github",
        "colab_type": "text"
      },
      "source": [
        "<a href=\"https://colab.research.google.com/github/Prasannasri575/SentimentAnalysiswithNLP/blob/main/Sentiment_Analysis_with_NLP.ipynb\" target=\"_parent\"><img src=\"https://colab.research.google.com/assets/colab-badge.svg\" alt=\"Open In Colab\"/></a>"
      ]
    },
    {
      "cell_type": "markdown",
      "source": [
        "Sentiment Analysis with NLP"
      ],
      "metadata": {
        "id": "CGZtt1gesk3g"
      }
    },
    {
      "cell_type": "code",
      "execution_count": 1,
      "metadata": {
        "colab": {
          "base_uri": "https://localhost:8080/"
        },
        "id": "-tUv-uhTr8cp",
        "outputId": "b4e80602-318a-4383-b052-1ea2a1806133"
      },
      "outputs": [
        {
          "output_type": "stream",
          "name": "stdout",
          "text": [
            "Model Accuracy: 0.00\n",
            "Predicted Sentiment: Positive\n"
          ]
        }
      ],
      "source": [
        "import numpy as np\n",
        "import pandas as pd\n",
        "from sklearn.feature_extraction.text import TfidfVectorizer\n",
        "from sklearn.model_selection import train_test_split\n",
        "from sklearn.linear_model import LogisticRegression\n",
        "from sklearn.metrics import accuracy_score\n",
        "\n",
        "# Generate synthetic text data (fake reviews)\n",
        "text_data = [\n",
        "    \"I love this product, it's amazing!\",  # Positive\n",
        "    \"Terrible service, I will never come again.\",  # Negative\n",
        "    \"Absolutely fantastic experience, highly recommend!\",  # Positive\n",
        "    \"Worst quality, waste of money.\",  # Negative\n",
        "    \"I am very happy with my purchase.\",  # Positive\n",
        "    \"Extremely disappointing, I regret buying this.\",  # Negative\n",
        "    \"Great value for money, totally worth it!\",  # Positive\n",
        "    \"Horrible customer support, not helpful at all.\",  # Negative\n",
        "]\n",
        "#Generate corresponding fake sentiment labels (1: Positive, 0: Negative)\n",
        "sentiments = np.array([1, 0, 1, 0, 1, 0, 1, 0])\n",
        "\n",
        "# Convert text into numerical format using TF-IDF vectorization\n",
        "vectorizer = TfidfVectorizer()\n",
        "X = vectorizer.fit_transform(text_data)\n",
        "\n",
        "# Split data into training and testing sets\n",
        "X_train, X_test, y_train, y_test = train_test_split(X, sentiments, test_size=0.2, random_state=42)\n",
        "\n",
        "# Train a Logistic Regression model\n",
        "model = LogisticRegression()\n",
        "model.fit(X_train, y_train)\n",
        "\n",
        "# Predict on the test set\n",
        "y_pred = model.predict(X_test)\n",
        "\n",
        "# Print accuracy\n",
        "accuracy = accuracy_score(y_test, y_pred)\n",
        "print(f\"Model Accuracy: {accuracy:.2f}\")\n",
        "\n",
        "# Test with a new sample review\n",
        "new_review = [\"The product is really good and I am satisfied.\"]\n",
        "new_review_tfidf = vectorizer.transform(new_review)\n",
        "predicted_sentiment = model.predict(new_review_tfidf)[0]\n",
        "\n",
        "# Print sentiment prediction\n",
        "print(f\"Predicted Sentiment: {'Positive' if predicted_sentiment == 1 else'Negative'}\")\n"
      ]
    }
  ]
}